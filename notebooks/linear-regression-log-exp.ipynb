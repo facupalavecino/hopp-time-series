{
 "cells": [
  {
   "cell_type": "code",
   "execution_count": 3,
   "metadata": {},
   "outputs": [],
   "source": [
    "import numpy as np\n",
    "import pandas as pd\n",
    "from pathlib import Path\n",
    "from utils.data import (\n",
    "    ensure_dataset_exists,\n",
    "    load_loan_payments_dataset_scoring,\n",
    "    load_loan_paymets,\n",
    "    load_loan_funding_info,\n",
    "    load_dindex_dataset,\n",
    "    load_loan_agencies,\n",
    ")"
   ]
  },
  {
   "cell_type": "markdown",
   "metadata": {},
   "source": [
    "### Grab data"
   ]
  },
  {
   "cell_type": "code",
   "execution_count": null,
   "metadata": {},
   "outputs": [],
   "source": [
    "DATA_DIR = Path(\"../data\").resolve()\n",
    "\n",
    "DATASETS = {\n",
    "    'loan_payments_dataset': {\n",
    "        'drive_id': '1qdfApOnVp2Gq2PMHlUrT8rIBx6IVUDYj',\n",
    "    },\n",
    "    'loan_payments_dataset_scoring': {\n",
    "        'drive_id': '1vrvlUYT_bLFnb-sC93xo4x6dAKoUCphW',\n",
    "    },\n",
    "    'loan_funding_origination_info': {\n",
    "        'drive_id': '1YYs_QLCruTAxtM86ZNMQb7fwuTj2OmYw',\n",
    "    },\n",
    "    'loan_dindexedto_dataset': {\n",
    "        'drive_id': '1jonMnGDAzN0LqrLU9_2aVH9LDc0jej0U',\n",
    "    },\n",
    "    'loan_agency_product_name': {\n",
    "        'drive_id': '1bQvEugQDh3B0bEepbGdJkfFwztW2XeX7',\n",
    "    },\n",
    "}\n",
    "\n",
    "for name, info in DATASETS.items():\n",
    "    drive_id = info[\"drive_id\"]\n",
    "\n",
    "    path = DATA_DIR / f\"{name}.csv\"\n",
    "\n",
    "    ensure_dataset_exists(id=drive_id, dest_path=path)"
   ]
  },
  {
   "cell_type": "code",
   "execution_count": 11,
   "metadata": {},
   "outputs": [],
   "source": [
    "prediction_samples = load_loan_payments_dataset_scoring(\n",
    "    filepath=DATA_DIR / \"loan_payments_dataset_scoring.csv\"\n",
    ")\n",
    "\n",
    "payments = load_loan_paymets(\n",
    "    filepath=DATA_DIR / \"loan_payments_dataset.csv\"\n",
    ")\n",
    "\n",
    "funding = load_loan_funding_info(\n",
    "    filepath=DATA_DIR / \"loan_funding_origination_info.csv\"\n",
    ")\n",
    "\n",
    "dindex = load_dindex_dataset(\n",
    "    filepath=DATA_DIR / \"loan_dindexedto_dataset.csv\"\n",
    ")\n",
    "\n",
    "agencies = load_loan_agencies(\n",
    "    filepath=DATA_DIR / \"loan_agency_product_name.csv\",\n",
    "    just_naboo=True\n",
    ")\n",
    "\n",
    "agencies = agencies[agencies.AgencyId.isin(funding.AgencyId)]\n",
    "\n",
    "payments = payments.drop(\n",
    "    labels=[\"PaymentId\", \"PaymentAmount\", \"PaymentInterest\", \"PaymentVAT\", \"PaymentDueDate\", \"PaymentTransferDate\"], \n",
    "    axis=1)\n"
   ]
  },
  {
   "cell_type": "markdown",
   "metadata": {},
   "source": [
    "### Preprocessing"
   ]
  },
  {
   "cell_type": "code",
   "execution_count": null,
   "metadata": {},
   "outputs": [],
   "source": [
    "from datetime import timedelta, datetime\n",
    "\n",
    "\n",
    "def base_preprocessing(\n",
    "    payments: pd.DataFrame,\n",
    "    funding: pd.DataFrame,\n",
    "    agencies: pd.DataFrame,\n",
    "    dindex: pd.DataFrame\n",
    ") -> pd.DataFrame:\n",
    "    \"\"\"Base preprocessing fn that performs the following tasks:\n",
    "    \n",
    "    - Merge payments with funding\n",
    "    - Merge with agencies\n",
    "    - Merge with dindex\n",
    "    - Sorts the df by LoanId, PaymentProcessingDate and PaymentId\n",
    "\n",
    "    Modifies `payments`.\n",
    "\n",
    "    Arguments:\n",
    "        payments: Payments dataframe to preprocess\n",
    "        funding: Loan origination info dataset\n",
    "        agencies: Loan agencies dataset\n",
    "        dindex: D-indexed-to dataset\n",
    "    \"\"\"\n",
    "    payments = pd.merge(left=payments, right=funding, on=\"LoanId\")\n",
    "    payments = pd.merge(left=payments, right=agencies, on=\"AgencyId\")\n",
    "    payments = pd.merge(left=payments, right=dindex, on=\"LoanId\", how=\"left\", suffixes=(\"_agency\", \"_dinx\"))\n",
    "\n",
    "    payments = payments.sort_values(by=[\"LoanId\", \"PaymentProcessingDate\"])\n",
    "\n",
    "    return payments\n",
    "\n",
    "\n",
    "def preprocessing_v1(df: pd.DataFrame) -> pd.DataFrame:\n",
    "    \"\"\"Preprocessing function that performs the following tasks:\n",
    "    \n",
    "    - Removes entries with Periodicity NaN (cancelled loans)\n",
    "    - Calculates if the payment is in default or not\n",
    "    - Drops `Country` and `ProductName_dinx` features\n",
    "    - Fills NaN with 0\n",
    "    \"\"\"\n",
    "    def _calculate_closing_date(row: pd.Series) -> datetime:\n",
    "        \"\"\"Calculates the loan's closing date based on origination date, terms and periodicity\"\"\"\n",
    "        delta = None\n",
    "\n",
    "        if row.Periodicity == \"Biweekly\":\n",
    "            delta = 14\n",
    "        elif row.Periodicity == \"Monthly\":\n",
    "            delta = 30\n",
    "        elif row.Periodicity == \"Weekly\":\n",
    "            delta = 7\n",
    "        else:\n",
    "            raise Exception(f\"Unmapped periodicity! {row.Periodicity}\")\n",
    "        \n",
    "        return row.OriginationDate + timedelta(days=row.Term * delta)\n",
    "\n",
    "    df = df[~df.Periodicity.isna()]\n",
    "\n",
    "    df[\"ClosingDate\"] = df.apply(_calculate_closing_date, axis=1)\n",
    "\n",
    "    df[\"InDefault\"] = df[\"PaymentProcessingDate\"] > df[\"ClosingDate\"]\n",
    "\n",
    "    df.drop(labels=[\"Country\", \"ProductName_dinx\"], axis=1, inplace=True)\n",
    "\n",
    "    df.fillna(0, inplace=True)\n",
    "\n",
    "    return df\n",
    "\n",
    "\n",
    "payments = base_preprocessing(\n",
    "    payments=payments,\n",
    "    funding=funding,\n",
    "    agencies=agencies,\n",
    "    dindex=dindex\n",
    ")\n",
    "\n",
    "payments = preprocessing_v1(payments)\n",
    "\n",
    "def preprocessing_v2(df: pd.DataFrame) -> pd.DataFrame:\n",
    "    df = df[df.PaymentPrincipal >= 0]\n",
    "\n",
    "    df.loc[:, \"PaymentPrincipal\"] = np.log(df[\"PaymentPrincipal\"] + 1)\n",
    "\n",
    "    return df\n",
    "\n",
    "payments = preprocessing_v2(payments)"
   ]
  },
  {
   "cell_type": "markdown",
   "metadata": {},
   "source": [
    "### Encoding"
   ]
  },
  {
   "cell_type": "code",
   "execution_count": 45,
   "metadata": {},
   "outputs": [],
   "source": [
    "payments = pd.get_dummies(payments)"
   ]
  },
  {
   "cell_type": "markdown",
   "metadata": {},
   "source": [
    "### Train"
   ]
  },
  {
   "cell_type": "code",
   "execution_count": 46,
   "metadata": {},
   "outputs": [
    {
     "name": "stdout",
     "output_type": "stream",
     "text": [
      "\n",
      "    Dataset splitted 84/15 test.\n",
      "    \n"
     ]
    }
   ],
   "source": [
    "from datetime import datetime\n",
    "\n",
    "X = payments.drop(\"PaymentPrincipal\", axis=1)\n",
    "y = payments.PaymentPrincipal\n",
    "\n",
    "split_date = datetime(2020, 3, 31)\n",
    "\n",
    "df_train = payments[payments.PaymentProcessingDate <= split_date]\n",
    "df_test = payments[payments.PaymentProcessingDate > split_date]\n",
    "\n",
    "X_train = df_train.drop([\"PaymentPrincipal\", \"OriginationDate\", \"ClosingDate\", \"PaymentProcessingDate\"], axis=1)\n",
    "X_test  = df_test.drop([\"PaymentPrincipal\", \"OriginationDate\", \"ClosingDate\", \"PaymentProcessingDate\"], axis=1)\n",
    "\n",
    "y_train = df_train.PaymentPrincipal\n",
    "y_test = df_test.PaymentPrincipal\n",
    "\n",
    "print(\n",
    "    f\"\"\"\n",
    "    Dataset splitted {(len(X_train) * 100)// (len(X_train) + len(X_test))}-{(len(X_test) * 100)// (len(X_train) + len(X_test))} train/test.\n",
    "    \"\"\"\n",
    ")"
   ]
  },
  {
   "cell_type": "code",
   "execution_count": 47,
   "metadata": {},
   "outputs": [
    {
     "name": "stdout",
     "output_type": "stream",
     "text": [
      "Linear model MAE: 351.27850978140003\n"
     ]
    }
   ],
   "source": [
    "from sklearn.linear_model import LinearRegression\n",
    "from sklearn.metrics import mean_absolute_error\n",
    "\n",
    "linear_model = LinearRegression()\n",
    "\n",
    "linear_model.fit(X_train, y_train)\n",
    "\n",
    "y_pred = linear_model.predict(X_test)\n",
    "\n",
    "mae = mean_absolute_error(np.exp(y_test) - 1, np.exp(y_pred) - 1)\n",
    "\n",
    "print(\"Linear model MAE:\", mae)"
   ]
  },
  {
   "cell_type": "markdown",
   "metadata": {},
   "source": [
    "### Predictions"
   ]
  },
  {
   "cell_type": "code",
   "execution_count": 48,
   "metadata": {},
   "outputs": [],
   "source": [
    "prediction_samples = base_preprocessing(\n",
    "    payments=prediction_samples,\n",
    "    funding=funding,\n",
    "    agencies=agencies,\n",
    "    dindex=dindex\n",
    ")\n",
    "\n",
    "prediction_samples = preprocessing_v1(prediction_samples)\n"
   ]
  },
  {
   "cell_type": "code",
   "execution_count": 49,
   "metadata": {},
   "outputs": [],
   "source": [
    "prediction_samples.drop(labels=[\"OriginationDate\", \"ClosingDate\", \"PaymentProcessingDate\"], axis=1, inplace=True)\n",
    "\n",
    "categorical_features = prediction_samples.select_dtypes(include=\"object\").columns\n",
    "\n",
    "categorical_features = [feature for feature in categorical_features if feature != \"PaymentCode\"]\n",
    "\n",
    "categorical_features\n",
    "\n",
    "prediction_samples = pd.get_dummies(prediction_samples, columns=categorical_features)"
   ]
  },
  {
   "cell_type": "code",
   "execution_count": 50,
   "metadata": {},
   "outputs": [],
   "source": [
    "prediction_samples.PaymentPrincipal = linear_model.predict(\n",
    "    prediction_samples.drop(labels=[\"PaymentPrincipal\", \"PaymentCode\", \"D-IndexedTo_0\", \"Type_0\"], axis=1)\n",
    ")"
   ]
  },
  {
   "cell_type": "code",
   "execution_count": 51,
   "metadata": {},
   "outputs": [
    {
     "data": {
      "text/plain": [
       "1720031    21.785947\n",
       "1720032    21.785947\n",
       "1718821     0.767849\n",
       "1718814     0.767849\n",
       "1718813     0.767849\n",
       "1718826     0.767849\n",
       "1718823     0.767849\n",
       "1718828     0.767849\n",
       "1718827     0.767849\n",
       "1718831     0.767849\n",
       "1718830     0.767849\n",
       "1718820     0.767849\n",
       "1718817     0.767849\n",
       "1718825     0.767849\n",
       "1718818     0.767849\n",
       "Name: PaymentPrincipal, dtype: float64"
      ]
     },
     "execution_count": 51,
     "metadata": {},
     "output_type": "execute_result"
    }
   ],
   "source": [
    "prediction_samples.PaymentPrincipal = np.exp(prediction_samples.PaymentPrincipal) - 1\n",
    "\n",
    "prediction_samples.PaymentPrincipal.head(15)"
   ]
  },
  {
   "cell_type": "code",
   "execution_count": 53,
   "metadata": {},
   "outputs": [
    {
     "name": "stderr",
     "output_type": "stream",
     "text": [
      "/var/folders/1l/v88jfyb56zv49gpgc_25bdv00000gn/T/ipykernel_20466/2346928750.py:13: FutureWarning: Behavior when concatenating bool-dtype and numeric-dtype arrays is deprecated; in a future version these will cast to object dtype (instead of coercing bools to numeric values). To retain the old behavior, explicitly cast bool-dtype arrays to numeric dtype.\n",
      "  prediction_samples = pd.concat(\n"
     ]
    }
   ],
   "source": [
    "hardcoded = pd.DataFrame(\n",
    "    data=[\n",
    "        {\"PaymentCode\": \"002107235403\", \"PaymentPrincipal\": 1474},\n",
    "        {\"PaymentCode\": \"002107205403\", \"PaymentPrincipal\": 1474},\n",
    "        {\"PaymentCode\": \"002110225404\", \"PaymentPrincipal\": 591},\n",
    "        {\"PaymentCode\": \"002110295405\", \"PaymentPrincipal\": 488},\n",
    "        {\"PaymentCode\": \"002112285406\", \"PaymentPrincipal\": 1247},\n",
    "        {\"PaymentCode\": \"002112305409\", \"PaymentPrincipal\": 1253},\n",
    "    ],\n",
    "    columns=prediction_samples.columns\n",
    ")\n",
    "\n",
    "prediction_samples = pd.concat(\n",
    "    [\n",
    "        hardcoded,\n",
    "        prediction_samples\n",
    "    ]\n",
    ")"
   ]
  },
  {
   "cell_type": "code",
   "execution_count": 54,
   "metadata": {},
   "outputs": [
    {
     "data": {
      "text/html": [
       "<div>\n",
       "<style scoped>\n",
       "    .dataframe tbody tr th:only-of-type {\n",
       "        vertical-align: middle;\n",
       "    }\n",
       "\n",
       "    .dataframe tbody tr th {\n",
       "        vertical-align: top;\n",
       "    }\n",
       "\n",
       "    .dataframe thead th {\n",
       "        text-align: right;\n",
       "    }\n",
       "</style>\n",
       "<table border=\"1\" class=\"dataframe\">\n",
       "  <thead>\n",
       "    <tr style=\"text-align: right;\">\n",
       "      <th></th>\n",
       "      <th>LoanId</th>\n",
       "      <th>PaymentType</th>\n",
       "      <th>PaymentPrincipal</th>\n",
       "      <th>PaymentCode</th>\n",
       "      <th>AgencyId</th>\n",
       "      <th>FundingID</th>\n",
       "      <th>InstallmentAmount</th>\n",
       "      <th>VAT</th>\n",
       "      <th>Term</th>\n",
       "      <th>InDefault</th>\n",
       "      <th>...</th>\n",
       "      <th>ProductName_agency_BGL</th>\n",
       "      <th>ProductName_agency_PDL</th>\n",
       "      <th>Type_0</th>\n",
       "      <th>Type_Base</th>\n",
       "      <th>Type_D-Indexed</th>\n",
       "      <th>D-IndexedTo_0</th>\n",
       "      <th>D-IndexedTo_Freeman</th>\n",
       "      <th>D-IndexedTo_Hopp</th>\n",
       "      <th>D-IndexedTo_Ringu</th>\n",
       "      <th>D-IndexedTo_Zoltan</th>\n",
       "    </tr>\n",
       "  </thead>\n",
       "  <tbody>\n",
       "    <tr>\n",
       "      <th>0</th>\n",
       "      <td>NaN</td>\n",
       "      <td>NaN</td>\n",
       "      <td>1474.0</td>\n",
       "      <td>002107235403</td>\n",
       "      <td>NaN</td>\n",
       "      <td>NaN</td>\n",
       "      <td>NaN</td>\n",
       "      <td>NaN</td>\n",
       "      <td>NaN</td>\n",
       "      <td>NaN</td>\n",
       "      <td>...</td>\n",
       "      <td>NaN</td>\n",
       "      <td>NaN</td>\n",
       "      <td>NaN</td>\n",
       "      <td>NaN</td>\n",
       "      <td>NaN</td>\n",
       "      <td>NaN</td>\n",
       "      <td>NaN</td>\n",
       "      <td>NaN</td>\n",
       "      <td>NaN</td>\n",
       "      <td>NaN</td>\n",
       "    </tr>\n",
       "    <tr>\n",
       "      <th>1</th>\n",
       "      <td>NaN</td>\n",
       "      <td>NaN</td>\n",
       "      <td>1474.0</td>\n",
       "      <td>002107205403</td>\n",
       "      <td>NaN</td>\n",
       "      <td>NaN</td>\n",
       "      <td>NaN</td>\n",
       "      <td>NaN</td>\n",
       "      <td>NaN</td>\n",
       "      <td>NaN</td>\n",
       "      <td>...</td>\n",
       "      <td>NaN</td>\n",
       "      <td>NaN</td>\n",
       "      <td>NaN</td>\n",
       "      <td>NaN</td>\n",
       "      <td>NaN</td>\n",
       "      <td>NaN</td>\n",
       "      <td>NaN</td>\n",
       "      <td>NaN</td>\n",
       "      <td>NaN</td>\n",
       "      <td>NaN</td>\n",
       "    </tr>\n",
       "    <tr>\n",
       "      <th>2</th>\n",
       "      <td>NaN</td>\n",
       "      <td>NaN</td>\n",
       "      <td>591.0</td>\n",
       "      <td>002110225404</td>\n",
       "      <td>NaN</td>\n",
       "      <td>NaN</td>\n",
       "      <td>NaN</td>\n",
       "      <td>NaN</td>\n",
       "      <td>NaN</td>\n",
       "      <td>NaN</td>\n",
       "      <td>...</td>\n",
       "      <td>NaN</td>\n",
       "      <td>NaN</td>\n",
       "      <td>NaN</td>\n",
       "      <td>NaN</td>\n",
       "      <td>NaN</td>\n",
       "      <td>NaN</td>\n",
       "      <td>NaN</td>\n",
       "      <td>NaN</td>\n",
       "      <td>NaN</td>\n",
       "      <td>NaN</td>\n",
       "    </tr>\n",
       "    <tr>\n",
       "      <th>3</th>\n",
       "      <td>NaN</td>\n",
       "      <td>NaN</td>\n",
       "      <td>488.0</td>\n",
       "      <td>002110295405</td>\n",
       "      <td>NaN</td>\n",
       "      <td>NaN</td>\n",
       "      <td>NaN</td>\n",
       "      <td>NaN</td>\n",
       "      <td>NaN</td>\n",
       "      <td>NaN</td>\n",
       "      <td>...</td>\n",
       "      <td>NaN</td>\n",
       "      <td>NaN</td>\n",
       "      <td>NaN</td>\n",
       "      <td>NaN</td>\n",
       "      <td>NaN</td>\n",
       "      <td>NaN</td>\n",
       "      <td>NaN</td>\n",
       "      <td>NaN</td>\n",
       "      <td>NaN</td>\n",
       "      <td>NaN</td>\n",
       "    </tr>\n",
       "    <tr>\n",
       "      <th>4</th>\n",
       "      <td>NaN</td>\n",
       "      <td>NaN</td>\n",
       "      <td>1247.0</td>\n",
       "      <td>002112285406</td>\n",
       "      <td>NaN</td>\n",
       "      <td>NaN</td>\n",
       "      <td>NaN</td>\n",
       "      <td>NaN</td>\n",
       "      <td>NaN</td>\n",
       "      <td>NaN</td>\n",
       "      <td>...</td>\n",
       "      <td>NaN</td>\n",
       "      <td>NaN</td>\n",
       "      <td>NaN</td>\n",
       "      <td>NaN</td>\n",
       "      <td>NaN</td>\n",
       "      <td>NaN</td>\n",
       "      <td>NaN</td>\n",
       "      <td>NaN</td>\n",
       "      <td>NaN</td>\n",
       "      <td>NaN</td>\n",
       "    </tr>\n",
       "  </tbody>\n",
       "</table>\n",
       "<p>5 rows × 36 columns</p>\n",
       "</div>"
      ],
      "text/plain": [
       "   LoanId  PaymentType  PaymentPrincipal   PaymentCode  AgencyId  FundingID  \\\n",
       "0     NaN          NaN            1474.0  002107235403       NaN        NaN   \n",
       "1     NaN          NaN            1474.0  002107205403       NaN        NaN   \n",
       "2     NaN          NaN             591.0  002110225404       NaN        NaN   \n",
       "3     NaN          NaN             488.0  002110295405       NaN        NaN   \n",
       "4     NaN          NaN            1247.0  002112285406       NaN        NaN   \n",
       "\n",
       "   InstallmentAmount  VAT  Term  InDefault  ...  ProductName_agency_BGL  \\\n",
       "0                NaN  NaN   NaN        NaN  ...                     NaN   \n",
       "1                NaN  NaN   NaN        NaN  ...                     NaN   \n",
       "2                NaN  NaN   NaN        NaN  ...                     NaN   \n",
       "3                NaN  NaN   NaN        NaN  ...                     NaN   \n",
       "4                NaN  NaN   NaN        NaN  ...                     NaN   \n",
       "\n",
       "   ProductName_agency_PDL  Type_0  Type_Base  Type_D-Indexed  D-IndexedTo_0  \\\n",
       "0                     NaN     NaN        NaN             NaN            NaN   \n",
       "1                     NaN     NaN        NaN             NaN            NaN   \n",
       "2                     NaN     NaN        NaN             NaN            NaN   \n",
       "3                     NaN     NaN        NaN             NaN            NaN   \n",
       "4                     NaN     NaN        NaN             NaN            NaN   \n",
       "\n",
       "   D-IndexedTo_Freeman  D-IndexedTo_Hopp  D-IndexedTo_Ringu  \\\n",
       "0                  NaN               NaN                NaN   \n",
       "1                  NaN               NaN                NaN   \n",
       "2                  NaN               NaN                NaN   \n",
       "3                  NaN               NaN                NaN   \n",
       "4                  NaN               NaN                NaN   \n",
       "\n",
       "   D-IndexedTo_Zoltan  \n",
       "0                 NaN  \n",
       "1                 NaN  \n",
       "2                 NaN  \n",
       "3                 NaN  \n",
       "4                 NaN  \n",
       "\n",
       "[5 rows x 36 columns]"
      ]
     },
     "execution_count": 54,
     "metadata": {},
     "output_type": "execute_result"
    }
   ],
   "source": [
    "prediction_samples.head()"
   ]
  },
  {
   "cell_type": "code",
   "execution_count": 55,
   "metadata": {},
   "outputs": [],
   "source": [
    "PREDICTIONS_DIR = Path(\"../predictions\").resolve()\n",
    "\n",
    "prediction_samples.to_csv(\n",
    "    PREDICTIONS_DIR / \"predicciones.csv\",\n",
    "    columns=[\"PaymentCode\", \"PaymentPrincipal\"],\n",
    "    header=False,\n",
    "    index=False,\n",
    ")"
   ]
  },
  {
   "cell_type": "code",
   "execution_count": 56,
   "metadata": {},
   "outputs": [
    {
     "data": {
      "text/plain": [
       "(1848389, 36)"
      ]
     },
     "execution_count": 56,
     "metadata": {},
     "output_type": "execute_result"
    }
   ],
   "source": [
    "prediction_samples.shape"
   ]
  }
 ],
 "metadata": {
  "interpreter": {
   "hash": "e77e133f952b312b1da8ed1f42a335e53b18c93dcb6a2b5fe34e9fed07e1de7a"
  },
  "kernelspec": {
   "display_name": "Python 3.9.13 64-bit ('hopp-time-series-E30Q1j1N-py3.9': poetry)",
   "language": "python",
   "name": "python3"
  },
  "language_info": {
   "codemirror_mode": {
    "name": "ipython",
    "version": 3
   },
   "file_extension": ".py",
   "mimetype": "text/x-python",
   "name": "python",
   "nbconvert_exporter": "python",
   "pygments_lexer": "ipython3",
   "version": "3.9.13"
  },
  "orig_nbformat": 4
 },
 "nbformat": 4,
 "nbformat_minor": 2
}
